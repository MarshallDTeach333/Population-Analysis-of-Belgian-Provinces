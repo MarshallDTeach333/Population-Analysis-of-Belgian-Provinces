{
 "cells": [
  {
   "cell_type": "markdown",
   "id": "3aefae9c-cbb4-4466-be86-c2d2a097d4ff",
   "metadata": {},
   "source": [
    "# Voorbereiding"
   ]
  },
  {
   "cell_type": "code",
   "execution_count": null,
   "id": "3e41bb38-d94a-47ab-a8a3-750bf7ac8659",
   "metadata": {},
   "outputs": [],
   "source": []
  },
  {
   "cell_type": "code",
   "execution_count": 9,
   "id": "258cadca-6686-4208-a95d-d383241ddda6",
   "metadata": {},
   "outputs": [],
   "source": [
    "import pandas as pd"
   ]
  },
  {
   "cell_type": "code",
   "execution_count": null,
   "id": "6be7c5b2-141e-4960-b2d1-86d005af42dc",
   "metadata": {},
   "outputs": [],
   "source": []
  },
  {
   "cell_type": "code",
   "execution_count": 58,
   "id": "bdd27078-ddb9-4824-806a-083b3eb102ae",
   "metadata": {},
   "outputs": [],
   "source": [
    "def lees_bevolking_van_jaartal(jaartal_inlezen):\n",
    "    bestandsnaam = 'Bevolking_' + str(jaartal_inlezen) + '.csv'\n",
    "    inleesbestand = pd.read_csv(bestandsnaam, sep=';')\n",
    "    inleesbestand.head()\n",
    "    \n",
    "    mannen = inleesbestand.drop(['Vrouwen', 'Totaal'], axis=1)\n",
    "    mannen.rename(columns={'Mannen':'Aantal'}, inplace=True)\n",
    "    mannen['Geslacht'] = \"Mannen\"\n",
    "    mannen.head()\n",
    "    \n",
    "    vrouwen = inleesbestand.drop(['Mannen', 'Totaal'], axis=1)\n",
    "    vrouwen.rename(columns={'Vrouwen':'Aantal'}, inplace=True)\n",
    "    vrouwen['Geslacht'] = \"Vrouwen\"\n",
    "    vrouwen.head()\n",
    "    \n",
    "    bevolking = pd.concat([mannen, vrouwen], ignore_index=True)\n",
    "    \n",
    "    bevolking['Jaartal'] = jaartal_inlezen\n",
    "\n",
    "    return bevolking"
   ]
  },
  {
   "cell_type": "code",
   "execution_count": null,
   "id": "6e48946c-8876-49d1-9345-71b63dadd0f2",
   "metadata": {},
   "outputs": [],
   "source": []
  },
  {
   "cell_type": "code",
   "execution_count": 60,
   "id": "dd9e5d54-bd8b-423f-8cea-d0743fa4e090",
   "metadata": {},
   "outputs": [],
   "source": [
    "totale_bevolking = lees_bevolking_van_jaartal(2021)\n",
    "\n",
    "for jaartal in range(2022,2024):\n",
    "    nieuwe_bevolking = lees_bevolking_van_jaartal(jaartal)\n",
    "    totale_bevolking = pd.concat([totale_bevolking, nieuwe_bevolking], ignore_index=True)"
   ]
  },
  {
   "cell_type": "code",
   "execution_count": 62,
   "id": "a66d607c-dcc1-4a0f-b887-69a81e0ae67a",
   "metadata": {},
   "outputs": [
    {
     "data": {
      "text/plain": [
       "(3828, 5)"
      ]
     },
     "execution_count": 62,
     "metadata": {},
     "output_type": "execute_result"
    }
   ],
   "source": [
    "totale_bevolking.shape"
   ]
  },
  {
   "cell_type": "code",
   "execution_count": 64,
   "id": "139d7a46-c85a-4538-9ae5-efd4ee77cce6",
   "metadata": {},
   "outputs": [
    {
     "data": {
      "text/html": [
       "<div>\n",
       "<style scoped>\n",
       "    .dataframe tbody tr th:only-of-type {\n",
       "        vertical-align: middle;\n",
       "    }\n",
       "\n",
       "    .dataframe tbody tr th {\n",
       "        vertical-align: top;\n",
       "    }\n",
       "\n",
       "    .dataframe thead th {\n",
       "        text-align: right;\n",
       "    }\n",
       "</style>\n",
       "<table border=\"1\" class=\"dataframe\">\n",
       "  <thead>\n",
       "    <tr style=\"text-align: right;\">\n",
       "      <th></th>\n",
       "      <th>NIS code</th>\n",
       "      <th>Woonplaats</th>\n",
       "      <th>Aantal</th>\n",
       "      <th>Geslacht</th>\n",
       "      <th>Jaartal</th>\n",
       "    </tr>\n",
       "  </thead>\n",
       "  <tbody>\n",
       "    <tr>\n",
       "      <th>0</th>\n",
       "      <td>1000</td>\n",
       "      <td>België</td>\n",
       "      <td>5677211</td>\n",
       "      <td>Mannen</td>\n",
       "      <td>2021</td>\n",
       "    </tr>\n",
       "    <tr>\n",
       "      <th>1</th>\n",
       "      <td>2000</td>\n",
       "      <td>Vlaams Gewest</td>\n",
       "      <td>3293617</td>\n",
       "      <td>Mannen</td>\n",
       "      <td>2021</td>\n",
       "    </tr>\n",
       "    <tr>\n",
       "      <th>2</th>\n",
       "      <td>3000</td>\n",
       "      <td>Waals Gewest</td>\n",
       "      <td>1784520</td>\n",
       "      <td>Mannen</td>\n",
       "      <td>2021</td>\n",
       "    </tr>\n",
       "    <tr>\n",
       "      <th>3</th>\n",
       "      <td>4000</td>\n",
       "      <td>Brussels Hoofdstedelijk Gewest</td>\n",
       "      <td>599074</td>\n",
       "      <td>Mannen</td>\n",
       "      <td>2021</td>\n",
       "    </tr>\n",
       "    <tr>\n",
       "      <th>4</th>\n",
       "      <td>10000</td>\n",
       "      <td>Provincie Antwerpen</td>\n",
       "      <td>931025</td>\n",
       "      <td>Mannen</td>\n",
       "      <td>2021</td>\n",
       "    </tr>\n",
       "  </tbody>\n",
       "</table>\n",
       "</div>"
      ],
      "text/plain": [
       "   NIS code                      Woonplaats   Aantal Geslacht  Jaartal\n",
       "0      1000                          België  5677211   Mannen     2021\n",
       "1      2000                   Vlaams Gewest  3293617   Mannen     2021\n",
       "2      3000                    Waals Gewest  1784520   Mannen     2021\n",
       "3      4000  Brussels Hoofdstedelijk Gewest   599074   Mannen     2021\n",
       "4     10000             Provincie Antwerpen   931025   Mannen     2021"
      ]
     },
     "execution_count": 64,
     "metadata": {},
     "output_type": "execute_result"
    }
   ],
   "source": [
    "totale_bevolking.head()"
   ]
  },
  {
   "cell_type": "code",
   "execution_count": null,
   "id": "fc23461c-bee5-4cde-8898-6a2bb8889873",
   "metadata": {},
   "outputs": [],
   "source": []
  },
  {
   "cell_type": "code",
   "execution_count": 72,
   "id": "5a9e6e39-66f2-4064-84dc-45a50b8cb94b",
   "metadata": {},
   "outputs": [],
   "source": [
    "# wij willen alles behalve de volgende filters om de dataset te normalizeren !\n",
    "    # str.find(value) == -1 => vind alles wat niet 'de value' is\n",
    "    \n",
    "filt1 = (totale_bevolking['Woonplaats'].str.find('België') == -1)   # alles behalve 'België'\n",
    "filt2 = (totale_bevolking['Woonplaats'].str.find('Gewest') == -1)   # alles behalve 'Gewest'\n",
    "filt3 = (totale_bevolking['Woonplaats'].str.find('Provincie') == -1)   # alles behalve 'Provincie'\n",
    "filt4 = (totale_bevolking['Woonplaats'].str.find('Arrondissement') == -1)   # alles behalve 'Arrondissement'"
   ]
  },
  {
   "cell_type": "code",
   "execution_count": null,
   "id": "aef368d8-6182-4de5-ae55-5622ab1bae70",
   "metadata": {},
   "outputs": [],
   "source": []
  },
  {
   "cell_type": "code",
   "execution_count": 84,
   "id": "b04733b1-504c-460a-8df3-d660981c3002",
   "metadata": {},
   "outputs": [],
   "source": [
    "# we willen enkel de rijen overhouden waar alle filters geldig zijn !!!\n",
    "totale_bevolking = totale_bevolking.loc[filt1 & filt2 & filt3 & filt4]"
   ]
  },
  {
   "cell_type": "code",
   "execution_count": 86,
   "id": "4a73c63b-6a88-4a6e-b640-6c73e9fc8cc0",
   "metadata": {},
   "outputs": [
    {
     "data": {
      "text/html": [
       "<div>\n",
       "<style scoped>\n",
       "    .dataframe tbody tr th:only-of-type {\n",
       "        vertical-align: middle;\n",
       "    }\n",
       "\n",
       "    .dataframe tbody tr th {\n",
       "        vertical-align: top;\n",
       "    }\n",
       "\n",
       "    .dataframe thead th {\n",
       "        text-align: right;\n",
       "    }\n",
       "</style>\n",
       "<table border=\"1\" class=\"dataframe\">\n",
       "  <thead>\n",
       "    <tr style=\"text-align: right;\">\n",
       "      <th></th>\n",
       "      <th>NIS code</th>\n",
       "      <th>Woonplaats</th>\n",
       "      <th>Aantal</th>\n",
       "      <th>Geslacht</th>\n",
       "      <th>Jaartal</th>\n",
       "    </tr>\n",
       "  </thead>\n",
       "  <tbody>\n",
       "    <tr>\n",
       "      <th>6</th>\n",
       "      <td>11001</td>\n",
       "      <td>Aartselaar</td>\n",
       "      <td>7169</td>\n",
       "      <td>Mannen</td>\n",
       "      <td>2021</td>\n",
       "    </tr>\n",
       "    <tr>\n",
       "      <th>7</th>\n",
       "      <td>11002</td>\n",
       "      <td>Antwerpen</td>\n",
       "      <td>265213</td>\n",
       "      <td>Mannen</td>\n",
       "      <td>2021</td>\n",
       "    </tr>\n",
       "    <tr>\n",
       "      <th>8</th>\n",
       "      <td>11004</td>\n",
       "      <td>Boechout</td>\n",
       "      <td>6587</td>\n",
       "      <td>Mannen</td>\n",
       "      <td>2021</td>\n",
       "    </tr>\n",
       "    <tr>\n",
       "      <th>9</th>\n",
       "      <td>11005</td>\n",
       "      <td>Boom</td>\n",
       "      <td>9337</td>\n",
       "      <td>Mannen</td>\n",
       "      <td>2021</td>\n",
       "    </tr>\n",
       "    <tr>\n",
       "      <th>10</th>\n",
       "      <td>11007</td>\n",
       "      <td>Borsbeek</td>\n",
       "      <td>5349</td>\n",
       "      <td>Mannen</td>\n",
       "      <td>2021</td>\n",
       "    </tr>\n",
       "  </tbody>\n",
       "</table>\n",
       "</div>"
      ],
      "text/plain": [
       "    NIS code  Woonplaats  Aantal Geslacht  Jaartal\n",
       "6      11001  Aartselaar    7169   Mannen     2021\n",
       "7      11002   Antwerpen  265213   Mannen     2021\n",
       "8      11004    Boechout    6587   Mannen     2021\n",
       "9      11005        Boom    9337   Mannen     2021\n",
       "10     11007    Borsbeek    5349   Mannen     2021"
      ]
     },
     "execution_count": 86,
     "metadata": {},
     "output_type": "execute_result"
    }
   ],
   "source": [
    "totale_bevolking.head()"
   ]
  },
  {
   "cell_type": "code",
   "execution_count": null,
   "id": "19358cd4-ddab-49d6-aadf-9e520ba1dadf",
   "metadata": {},
   "outputs": [],
   "source": []
  },
  {
   "cell_type": "code",
   "execution_count": 97,
   "id": "341afa18-22be-42f2-bd6d-4905881a81a2",
   "metadata": {},
   "outputs": [],
   "source": [
    "# we willen elke NIS-code linken aan een provincie\n",
    "    # zo krijgen we een beter beeld van de totale informatie\n",
    "\n",
    "def provincie_volgens_niscode(code):\n",
    "\n",
    "    code = str(code)\n",
    "    \n",
    "    if code[0] == '1': return 'Antwerp'\n",
    "    if code[0] == '2'  and code[1] == '1': return 'Brussel'\n",
    "    if code[0] == '2'  and code[1] == '3': return 'Vlaams-Brabant'\n",
    "    if code[0] == '2'  and code[1] == '4': return 'Vlaams-Brabant'\n",
    "    if code[0] == '2'  and code[1] == '5': return 'Waals-Brabant'\n",
    "    if code[0] == '3': return 'West-Vlaanderen'\n",
    "    if code[0] == '4': return 'Oost-Vlaanderen'\n",
    "    if code[0] == '5': return 'Henegouwen'\n",
    "    if code[0] == '6': return 'Luik'\n",
    "    if code[0] == '7': return 'Limburg'\n",
    "    if code[0] == '8': return 'Luxemburg'\n",
    "    if code[0] == '9': return 'Namen'"
   ]
  },
  {
   "cell_type": "code",
   "execution_count": null,
   "id": "5b3ded1e-4fdd-4540-b0a5-fc45b12950e6",
   "metadata": {},
   "outputs": [],
   "source": []
  },
  {
   "cell_type": "code",
   "execution_count": 93,
   "id": "ce0235f3-ccd1-4342-be70-0e484af3992c",
   "metadata": {},
   "outputs": [],
   "source": [
    "totale_bevolking['Provincie'] = totale_bevolking['NIS code'].apply(provincie_volgens_niscode)"
   ]
  },
  {
   "cell_type": "code",
   "execution_count": 95,
   "id": "8b7660e6-b0c4-4782-8e28-c2d5e0cc535a",
   "metadata": {},
   "outputs": [
    {
     "data": {
      "text/html": [
       "<div>\n",
       "<style scoped>\n",
       "    .dataframe tbody tr th:only-of-type {\n",
       "        vertical-align: middle;\n",
       "    }\n",
       "\n",
       "    .dataframe tbody tr th {\n",
       "        vertical-align: top;\n",
       "    }\n",
       "\n",
       "    .dataframe thead th {\n",
       "        text-align: right;\n",
       "    }\n",
       "</style>\n",
       "<table border=\"1\" class=\"dataframe\">\n",
       "  <thead>\n",
       "    <tr style=\"text-align: right;\">\n",
       "      <th></th>\n",
       "      <th>NIS code</th>\n",
       "      <th>Woonplaats</th>\n",
       "      <th>Aantal</th>\n",
       "      <th>Geslacht</th>\n",
       "      <th>Jaartal</th>\n",
       "      <th>Provincie</th>\n",
       "    </tr>\n",
       "  </thead>\n",
       "  <tbody>\n",
       "    <tr>\n",
       "      <th>6</th>\n",
       "      <td>11001</td>\n",
       "      <td>Aartselaar</td>\n",
       "      <td>7169</td>\n",
       "      <td>Mannen</td>\n",
       "      <td>2021</td>\n",
       "      <td>Antwerp</td>\n",
       "    </tr>\n",
       "    <tr>\n",
       "      <th>7</th>\n",
       "      <td>11002</td>\n",
       "      <td>Antwerpen</td>\n",
       "      <td>265213</td>\n",
       "      <td>Mannen</td>\n",
       "      <td>2021</td>\n",
       "      <td>Antwerp</td>\n",
       "    </tr>\n",
       "    <tr>\n",
       "      <th>8</th>\n",
       "      <td>11004</td>\n",
       "      <td>Boechout</td>\n",
       "      <td>6587</td>\n",
       "      <td>Mannen</td>\n",
       "      <td>2021</td>\n",
       "      <td>Antwerp</td>\n",
       "    </tr>\n",
       "    <tr>\n",
       "      <th>9</th>\n",
       "      <td>11005</td>\n",
       "      <td>Boom</td>\n",
       "      <td>9337</td>\n",
       "      <td>Mannen</td>\n",
       "      <td>2021</td>\n",
       "      <td>Antwerp</td>\n",
       "    </tr>\n",
       "    <tr>\n",
       "      <th>10</th>\n",
       "      <td>11007</td>\n",
       "      <td>Borsbeek</td>\n",
       "      <td>5349</td>\n",
       "      <td>Mannen</td>\n",
       "      <td>2021</td>\n",
       "      <td>Antwerp</td>\n",
       "    </tr>\n",
       "  </tbody>\n",
       "</table>\n",
       "</div>"
      ],
      "text/plain": [
       "    NIS code  Woonplaats  Aantal Geslacht  Jaartal Provincie\n",
       "6      11001  Aartselaar    7169   Mannen     2021   Antwerp\n",
       "7      11002   Antwerpen  265213   Mannen     2021   Antwerp\n",
       "8      11004    Boechout    6587   Mannen     2021   Antwerp\n",
       "9      11005        Boom    9337   Mannen     2021   Antwerp\n",
       "10     11007    Borsbeek    5349   Mannen     2021   Antwerp"
      ]
     },
     "execution_count": 95,
     "metadata": {},
     "output_type": "execute_result"
    }
   ],
   "source": [
    "totale_bevolking.head()"
   ]
  },
  {
   "cell_type": "code",
   "execution_count": 103,
   "id": "03bbf5cf-7c31-46e3-a84d-db7cf591995e",
   "metadata": {},
   "outputs": [],
   "source": [
    "totale_bevolking = totale_bevolking.reset_index()"
   ]
  },
  {
   "cell_type": "code",
   "execution_count": 105,
   "id": "c15d9f79-4a12-4de1-9214-cfebd957207d",
   "metadata": {},
   "outputs": [
    {
     "data": {
      "text/html": [
       "<div>\n",
       "<style scoped>\n",
       "    .dataframe tbody tr th:only-of-type {\n",
       "        vertical-align: middle;\n",
       "    }\n",
       "\n",
       "    .dataframe tbody tr th {\n",
       "        vertical-align: top;\n",
       "    }\n",
       "\n",
       "    .dataframe thead th {\n",
       "        text-align: right;\n",
       "    }\n",
       "</style>\n",
       "<table border=\"1\" class=\"dataframe\">\n",
       "  <thead>\n",
       "    <tr style=\"text-align: right;\">\n",
       "      <th></th>\n",
       "      <th>NIS code</th>\n",
       "      <th>Woonplaats</th>\n",
       "      <th>Aantal</th>\n",
       "      <th>Geslacht</th>\n",
       "      <th>Jaartal</th>\n",
       "      <th>Provincie</th>\n",
       "    </tr>\n",
       "  </thead>\n",
       "  <tbody>\n",
       "    <tr>\n",
       "      <th>0</th>\n",
       "      <td>11001</td>\n",
       "      <td>Aartselaar</td>\n",
       "      <td>7169</td>\n",
       "      <td>Mannen</td>\n",
       "      <td>2021</td>\n",
       "      <td>Antwerp</td>\n",
       "    </tr>\n",
       "    <tr>\n",
       "      <th>1</th>\n",
       "      <td>11002</td>\n",
       "      <td>Antwerpen</td>\n",
       "      <td>265213</td>\n",
       "      <td>Mannen</td>\n",
       "      <td>2021</td>\n",
       "      <td>Antwerp</td>\n",
       "    </tr>\n",
       "    <tr>\n",
       "      <th>2</th>\n",
       "      <td>11004</td>\n",
       "      <td>Boechout</td>\n",
       "      <td>6587</td>\n",
       "      <td>Mannen</td>\n",
       "      <td>2021</td>\n",
       "      <td>Antwerp</td>\n",
       "    </tr>\n",
       "    <tr>\n",
       "      <th>3</th>\n",
       "      <td>11005</td>\n",
       "      <td>Boom</td>\n",
       "      <td>9337</td>\n",
       "      <td>Mannen</td>\n",
       "      <td>2021</td>\n",
       "      <td>Antwerp</td>\n",
       "    </tr>\n",
       "    <tr>\n",
       "      <th>4</th>\n",
       "      <td>11007</td>\n",
       "      <td>Borsbeek</td>\n",
       "      <td>5349</td>\n",
       "      <td>Mannen</td>\n",
       "      <td>2021</td>\n",
       "      <td>Antwerp</td>\n",
       "    </tr>\n",
       "  </tbody>\n",
       "</table>\n",
       "</div>"
      ],
      "text/plain": [
       "   NIS code  Woonplaats  Aantal Geslacht  Jaartal Provincie\n",
       "0     11001  Aartselaar    7169   Mannen     2021   Antwerp\n",
       "1     11002   Antwerpen  265213   Mannen     2021   Antwerp\n",
       "2     11004    Boechout    6587   Mannen     2021   Antwerp\n",
       "3     11005        Boom    9337   Mannen     2021   Antwerp\n",
       "4     11007    Borsbeek    5349   Mannen     2021   Antwerp"
      ]
     },
     "execution_count": 105,
     "metadata": {},
     "output_type": "execute_result"
    }
   ],
   "source": [
    "totale_bevolking.head()"
   ]
  },
  {
   "cell_type": "code",
   "execution_count": null,
   "id": "88530575-3edc-42e0-93e7-21646a84d5dd",
   "metadata": {},
   "outputs": [],
   "source": []
  },
  {
   "cell_type": "markdown",
   "id": "7459f9db-31d0-4297-9b89-69838798e89f",
   "metadata": {},
   "source": [
    "# Analyze"
   ]
  },
  {
   "cell_type": "code",
   "execution_count": null,
   "id": "139255aa-16c9-4e20-8621-31e680bbe66a",
   "metadata": {},
   "outputs": [],
   "source": []
  },
  {
   "cell_type": "markdown",
   "id": "f70797b3-0262-4b10-8ae4-21b0992bf627",
   "metadata": {},
   "source": [
    "### Hoeveel verschillende NIS-codes bestaan er?"
   ]
  },
  {
   "cell_type": "code",
   "execution_count": 115,
   "id": "54157d6e-7e4b-4b46-ac43-9c01dc69ede0",
   "metadata": {},
   "outputs": [
    {
     "data": {
      "text/plain": [
       "581"
      ]
     },
     "execution_count": 115,
     "metadata": {},
     "output_type": "execute_result"
    }
   ],
   "source": [
    "codes = totale_bevolking['NIS code'].nunique()\n",
    "codes"
   ]
  },
  {
   "cell_type": "code",
   "execution_count": null,
   "id": "d022e44c-b6a1-4653-8d96-eda2aabb5a7d",
   "metadata": {},
   "outputs": [],
   "source": []
  },
  {
   "cell_type": "markdown",
   "id": "f7b9d77e-4c70-40fa-b1a9-49ce139d17f7",
   "metadata": {},
   "source": [
    "### Wat is het aantal inwoners van heel België in het jaar 2023"
   ]
  },
  {
   "cell_type": "code",
   "execution_count": 131,
   "id": "c9f32aa3-3a12-4385-beab-b24f800e88c6",
   "metadata": {},
   "outputs": [],
   "source": [
    "filt = (totale_bevolking['Jaartal'] == 2023)"
   ]
  },
  {
   "cell_type": "code",
   "execution_count": 141,
   "id": "0cd5de9f-300c-4d7f-9def-b4a115f57bfe",
   "metadata": {},
   "outputs": [],
   "source": [
    "totaal_belgie = totale_bevolking.loc[filt, 'Aantal'].sum()"
   ]
  },
  {
   "cell_type": "code",
   "execution_count": 143,
   "id": "646c257f-1939-47de-95ce-915caa462271",
   "metadata": {},
   "outputs": [
    {
     "data": {
      "text/plain": [
       "11697557"
      ]
     },
     "execution_count": 143,
     "metadata": {},
     "output_type": "execute_result"
    }
   ],
   "source": [
    "totaal_belgie"
   ]
  },
  {
   "cell_type": "code",
   "execution_count": null,
   "id": "380e2db4-2315-49fc-92be-dd83c4e0946a",
   "metadata": {},
   "outputs": [],
   "source": []
  },
  {
   "cell_type": "markdown",
   "id": "d04cf53a-51d2-40c7-a1a0-83c5c75feb8d",
   "metadata": {},
   "source": [
    "### Wat is de evolutie van het aantal inwoners van heel België over de jaren heen?"
   ]
  },
  {
   "cell_type": "code",
   "execution_count": 164,
   "id": "4eed18aa-8ef4-4861-991e-583e41f86c49",
   "metadata": {},
   "outputs": [
    {
     "name": "stdout",
     "output_type": "stream",
     "text": [
      "2021 - 11521238\n",
      "2022 - 11584008\n",
      "2023 - 11697557\n"
     ]
    }
   ],
   "source": [
    "for jaartal in range(2021, 2024):\n",
    "    filt = (totale_bevolking['Jaartal'] == jaartal)\n",
    "    totaal_belgie = totale_bevolking.loc[filt, 'Aantal'].sum()\n",
    "    print(f'{jaartal} - {totaal_belgie}')"
   ]
  },
  {
   "cell_type": "code",
   "execution_count": null,
   "id": "ef48ec37-c5d3-43b0-8a41-063bd3e23638",
   "metadata": {},
   "outputs": [],
   "source": []
  },
  {
   "cell_type": "markdown",
   "id": "ac38ad36-a3cc-4601-88a3-c36344a52ed4",
   "metadata": {},
   "source": [
    "### Wat is het totaal aantal inwoners per provincie, per jaar?"
   ]
  },
  {
   "cell_type": "code",
   "execution_count": 171,
   "id": "03e0d599-4477-4608-880e-5e867c5c088f",
   "metadata": {},
   "outputs": [],
   "source": [
    "inwoners_per_jaar_per_provincie = totale_bevolking.groupby(['Jaartal', 'Provincie'])['Aantal'].sum()"
   ]
  },
  {
   "cell_type": "code",
   "execution_count": 187,
   "id": "c175d2d5-5568-42ff-91a4-b0754c539268",
   "metadata": {},
   "outputs": [],
   "source": [
    "inwoners = inwoners_per_jaar_per_provincie.to_frame('Totaal_Inwoners').sort_values(['Jaartal', 'Totaal_Inwoners'], ascending = False)"
   ]
  },
  {
   "cell_type": "code",
   "execution_count": 217,
   "id": "dc725eec-ea02-45ce-9f1c-e3109cd4e451",
   "metadata": {},
   "outputs": [
    {
     "data": {
      "text/html": [
       "<div>\n",
       "<style scoped>\n",
       "    .dataframe tbody tr th:only-of-type {\n",
       "        vertical-align: middle;\n",
       "    }\n",
       "\n",
       "    .dataframe tbody tr th {\n",
       "        vertical-align: top;\n",
       "    }\n",
       "\n",
       "    .dataframe thead th {\n",
       "        text-align: right;\n",
       "    }\n",
       "</style>\n",
       "<table border=\"1\" class=\"dataframe\">\n",
       "  <thead>\n",
       "    <tr style=\"text-align: right;\">\n",
       "      <th></th>\n",
       "      <th></th>\n",
       "      <th>Totaal_Inwoners</th>\n",
       "    </tr>\n",
       "    <tr>\n",
       "      <th>Jaartal</th>\n",
       "      <th>Provincie</th>\n",
       "      <th></th>\n",
       "    </tr>\n",
       "  </thead>\n",
       "  <tbody>\n",
       "    <tr>\n",
       "      <th rowspan=\"11\" valign=\"top\">2023</th>\n",
       "      <th>Antwerp</th>\n",
       "      <td>1910952</td>\n",
       "    </tr>\n",
       "    <tr>\n",
       "      <th>Oost-Vlaanderen</th>\n",
       "      <td>1561316</td>\n",
       "    </tr>\n",
       "    <tr>\n",
       "      <th>Henegouwen</th>\n",
       "      <td>1356895</td>\n",
       "    </tr>\n",
       "    <tr>\n",
       "      <th>Brussel</th>\n",
       "      <td>1241175</td>\n",
       "    </tr>\n",
       "    <tr>\n",
       "      <th>West-Vlaanderen</th>\n",
       "      <td>1220026</td>\n",
       "    </tr>\n",
       "    <tr>\n",
       "      <th>Vlaams-Brabant</th>\n",
       "      <td>1187483</td>\n",
       "    </tr>\n",
       "    <tr>\n",
       "      <th>Luik</th>\n",
       "      <td>1115518</td>\n",
       "    </tr>\n",
       "    <tr>\n",
       "      <th>Limburg</th>\n",
       "      <td>895030</td>\n",
       "    </tr>\n",
       "    <tr>\n",
       "      <th>Namen</th>\n",
       "      <td>502261</td>\n",
       "    </tr>\n",
       "    <tr>\n",
       "      <th>Waals-Brabant</th>\n",
       "      <td>412934</td>\n",
       "    </tr>\n",
       "    <tr>\n",
       "      <th>Luxemburg</th>\n",
       "      <td>293967</td>\n",
       "    </tr>\n",
       "    <tr>\n",
       "      <th rowspan=\"11\" valign=\"top\">2022</th>\n",
       "      <th>Antwerp</th>\n",
       "      <td>1886609</td>\n",
       "    </tr>\n",
       "    <tr>\n",
       "      <th>Oost-Vlaanderen</th>\n",
       "      <td>1543865</td>\n",
       "    </tr>\n",
       "    <tr>\n",
       "      <th>Henegouwen</th>\n",
       "      <td>1351127</td>\n",
       "    </tr>\n",
       "    <tr>\n",
       "      <th>Brussel</th>\n",
       "      <td>1222637</td>\n",
       "    </tr>\n",
       "    <tr>\n",
       "      <th>West-Vlaanderen</th>\n",
       "      <td>1209011</td>\n",
       "    </tr>\n",
       "    <tr>\n",
       "      <th>Vlaams-Brabant</th>\n",
       "      <td>1173440</td>\n",
       "    </tr>\n",
       "    <tr>\n",
       "      <th>Luik</th>\n",
       "      <td>1110989</td>\n",
       "    </tr>\n",
       "    <tr>\n",
       "      <th>Limburg</th>\n",
       "      <td>885951</td>\n",
       "    </tr>\n",
       "    <tr>\n",
       "      <th>Namen</th>\n",
       "      <td>499454</td>\n",
       "    </tr>\n",
       "    <tr>\n",
       "      <th>Waals-Brabant</th>\n",
       "      <td>409782</td>\n",
       "    </tr>\n",
       "    <tr>\n",
       "      <th>Luxemburg</th>\n",
       "      <td>291143</td>\n",
       "    </tr>\n",
       "    <tr>\n",
       "      <th rowspan=\"11\" valign=\"top\">2021</th>\n",
       "      <th>Antwerp</th>\n",
       "      <td>1875524</td>\n",
       "    </tr>\n",
       "    <tr>\n",
       "      <th>Oost-Vlaanderen</th>\n",
       "      <td>1531745</td>\n",
       "    </tr>\n",
       "    <tr>\n",
       "      <th>Henegouwen</th>\n",
       "      <td>1345947</td>\n",
       "    </tr>\n",
       "    <tr>\n",
       "      <th>Brussel</th>\n",
       "      <td>1219970</td>\n",
       "    </tr>\n",
       "    <tr>\n",
       "      <th>West-Vlaanderen</th>\n",
       "      <td>1203312</td>\n",
       "    </tr>\n",
       "    <tr>\n",
       "      <th>Vlaams-Brabant</th>\n",
       "      <td>1162084</td>\n",
       "    </tr>\n",
       "    <tr>\n",
       "      <th>Luik</th>\n",
       "      <td>1109067</td>\n",
       "    </tr>\n",
       "    <tr>\n",
       "      <th>Limburg</th>\n",
       "      <td>880397</td>\n",
       "    </tr>\n",
       "    <tr>\n",
       "      <th>Namen</th>\n",
       "      <td>497073</td>\n",
       "    </tr>\n",
       "    <tr>\n",
       "      <th>Waals-Brabant</th>\n",
       "      <td>407397</td>\n",
       "    </tr>\n",
       "    <tr>\n",
       "      <th>Luxemburg</th>\n",
       "      <td>288722</td>\n",
       "    </tr>\n",
       "  </tbody>\n",
       "</table>\n",
       "</div>"
      ],
      "text/plain": [
       "                         Totaal_Inwoners\n",
       "Jaartal Provincie                       \n",
       "2023    Antwerp                  1910952\n",
       "        Oost-Vlaanderen          1561316\n",
       "        Henegouwen               1356895\n",
       "        Brussel                  1241175\n",
       "        West-Vlaanderen          1220026\n",
       "        Vlaams-Brabant           1187483\n",
       "        Luik                     1115518\n",
       "        Limburg                   895030\n",
       "        Namen                     502261\n",
       "        Waals-Brabant             412934\n",
       "        Luxemburg                 293967\n",
       "2022    Antwerp                  1886609\n",
       "        Oost-Vlaanderen          1543865\n",
       "        Henegouwen               1351127\n",
       "        Brussel                  1222637\n",
       "        West-Vlaanderen          1209011\n",
       "        Vlaams-Brabant           1173440\n",
       "        Luik                     1110989\n",
       "        Limburg                   885951\n",
       "        Namen                     499454\n",
       "        Waals-Brabant             409782\n",
       "        Luxemburg                 291143\n",
       "2021    Antwerp                  1875524\n",
       "        Oost-Vlaanderen          1531745\n",
       "        Henegouwen               1345947\n",
       "        Brussel                  1219970\n",
       "        West-Vlaanderen          1203312\n",
       "        Vlaams-Brabant           1162084\n",
       "        Luik                     1109067\n",
       "        Limburg                   880397\n",
       "        Namen                     497073\n",
       "        Waals-Brabant             407397\n",
       "        Luxemburg                 288722"
      ]
     },
     "execution_count": 217,
     "metadata": {},
     "output_type": "execute_result"
    }
   ],
   "source": [
    "inwoners"
   ]
  },
  {
   "cell_type": "code",
   "execution_count": null,
   "id": "c1df708d-615e-430e-a7af-cf5b80b10c00",
   "metadata": {},
   "outputs": [],
   "source": []
  },
  {
   "cell_type": "markdown",
   "id": "edb83ce8-d395-4397-aeb8-4c5bd75d2fe5",
   "metadata": {},
   "source": [
    "### Welke Provincie heeft de meeste inwoners per jaar?"
   ]
  },
  {
   "cell_type": "code",
   "execution_count": 215,
   "id": "201f8ad6-225b-41f0-95da-aabe95827d93",
   "metadata": {},
   "outputs": [
    {
     "name": "stdout",
     "output_type": "stream",
     "text": [
      "2021 - 1875524\n",
      "2022 - 1886609\n",
      "2023 - 1910952\n"
     ]
    }
   ],
   "source": [
    "for jaartal in range(2021, 2024):\n",
    "    max_provincie = inwoners_per_jaar_per_provincie.loc[jaartal].max()\n",
    "    max_inwoners = inwoners_per_jaar_per_provincie.loc[jaartal].max()\n",
    "    print(f'{jaartal} - {max_per_jaar}')"
   ]
  },
  {
   "cell_type": "code",
   "execution_count": null,
   "id": "8f25cc9d-23d8-417e-847f-c81b78fc0f4d",
   "metadata": {},
   "outputs": [],
   "source": []
  },
  {
   "cell_type": "markdown",
   "id": "b2e6b339-cf77-4d82-9cc0-5a49d014fc58",
   "metadata": {},
   "source": [
    "Ik wil een duidelijkere representatie van de conclusie !!!"
   ]
  },
  {
   "cell_type": "code",
   "execution_count": 242,
   "id": "88494184-45b9-4b06-9265-c7a3e359771c",
   "metadata": {},
   "outputs": [
    {
     "name": "stdout",
     "output_type": "stream",
     "text": [
      "2021: Antwerp = 1875524\n",
      "2022: Antwerp = 1886609\n",
      "2023: Antwerp = 1910952\n"
     ]
    }
   ],
   "source": [
    "for jaartal in range(2021, 2024):\n",
    "    # .max() geeft enkel the waardes terug\n",
    "        # => om de overeenkomende id eruit te halen gebruiken we .idxmax() !!!\n",
    "    \n",
    "    max_provincie = inwoners_per_jaar_per_provincie.loc[jaartal].idxmax()\n",
    "    max_inwoners = inwoners_per_jaar_per_provincie.loc[jaartal].max()\n",
    "    print(f'{jaartal}: {max_provincie} = {max_inwoners}')"
   ]
  },
  {
   "cell_type": "code",
   "execution_count": null,
   "id": "333943d5-c0ee-47e9-aa90-f1cbcb2524c5",
   "metadata": {},
   "outputs": [],
   "source": []
  },
  {
   "cell_type": "code",
   "execution_count": null,
   "id": "f4a7e53e-5bda-48d9-9f04-7cc48ac87f6f",
   "metadata": {},
   "outputs": [],
   "source": []
  },
  {
   "cell_type": "markdown",
   "id": "fb6d9d13-b3eb-473e-a6c6-0b5b34f2573b",
   "metadata": {},
   "source": [
    "### Wat is het hoogste aantal inwoners dat elke provincie ooit heeft behaald?"
   ]
  },
  {
   "cell_type": "code",
   "execution_count": null,
   "id": "1292cec8-24c7-40b8-bb4b-82120f0d72f9",
   "metadata": {},
   "outputs": [],
   "source": []
  },
  {
   "cell_type": "code",
   "execution_count": 283,
   "id": "38590e2d-bcb2-4caf-8d9c-1b9d8a3553f7",
   "metadata": {},
   "outputs": [],
   "source": [
    "# .unique() geeft ons alle unieke waardes van de geselecteerde kolom !!!\n",
    "unieke_provincies = totale_bevolking['Provincie'].unique()\n",
    "provincies = [provincie for provincie in unieke_provincies]"
   ]
  },
  {
   "cell_type": "code",
   "execution_count": 279,
   "id": "c548b20a-f29e-4f4b-b071-8e50463f7f52",
   "metadata": {},
   "outputs": [
    {
     "data": {
      "text/plain": [
       "['Antwerp',\n",
       " 'Brussel',\n",
       " 'Vlaams-Brabant',\n",
       " 'Waals-Brabant',\n",
       " 'West-Vlaanderen',\n",
       " 'Oost-Vlaanderen',\n",
       " 'Henegouwen',\n",
       " 'Luik',\n",
       " 'Limburg',\n",
       " 'Luxemburg',\n",
       " 'Namen']"
      ]
     },
     "execution_count": 279,
     "metadata": {},
     "output_type": "execute_result"
    }
   ],
   "source": [
    "provincies"
   ]
  },
  {
   "cell_type": "code",
   "execution_count": null,
   "id": "c1efde0d-2a19-4e81-8cda-6614660f1db2",
   "metadata": {},
   "outputs": [],
   "source": []
  },
  {
   "cell_type": "code",
   "execution_count": null,
   "id": "b9314bd4-0d9e-4d56-84f9-ae39c82cbf7f",
   "metadata": {},
   "outputs": [],
   "source": []
  },
  {
   "cell_type": "code",
   "execution_count": 333,
   "id": "afc03291-d0a6-491a-b735-260b1127382a",
   "metadata": {},
   "outputs": [
    {
     "name": "stdout",
     "output_type": "stream",
     "text": [
      "Antwerp (2023): 1910952\n",
      "Brussel (2023): 1241175\n",
      "Vlaams-Brabant (2023): 1187483\n",
      "Waals-Brabant (2023): 412934\n",
      "West-Vlaanderen (2023): 1220026\n",
      "Oost-Vlaanderen (2023): 1561316\n",
      "Henegouwen (2023): 1356895\n",
      "Luik (2023): 1115518\n",
      "Limburg (2023): 895030\n",
      "Luxemburg (2023): 293967\n",
      "Namen (2023): 502261\n"
     ]
    }
   ],
   "source": [
    "for provincie in provincies:\n",
    "    filt = (totale_bevolking['Provincie'] == provincie)\n",
    "    som_jaar = totale_bevolking.loc[filt].groupby('Jaartal')['Aantal'].sum()\n",
    "    \n",
    "    jaar = som_jaar.idxmax()\n",
    "    max_inwoners = som_jaar.max()\n",
    "\n",
    "    print(f'{provincie} ({jaar}): {max_inwoners}')"
   ]
  },
  {
   "cell_type": "code",
   "execution_count": null,
   "id": "db661d90-7013-4c24-b1cc-9e56242e1c7d",
   "metadata": {},
   "outputs": [],
   "source": []
  },
  {
   "cell_type": "code",
   "execution_count": null,
   "id": "dae091c3-aa5e-4d32-87d9-417718db56c2",
   "metadata": {},
   "outputs": [],
   "source": []
  },
  {
   "cell_type": "markdown",
   "id": "a35abf91-67b0-4465-a0ec-0fd16079f6f3",
   "metadata": {},
   "source": [
    "### In welke provincies wonen er meer mannen dan vrouwen?"
   ]
  },
  {
   "cell_type": "code",
   "execution_count": null,
   "id": "0b66b5ac-2ae4-4513-b859-21b3938aa82f",
   "metadata": {},
   "outputs": [],
   "source": []
  },
  {
   "cell_type": "code",
   "execution_count": 385,
   "id": "6838903b-3bf6-4dce-b830-88438bb89d4c",
   "metadata": {},
   "outputs": [
    {
     "data": {
      "text/html": [
       "<div>\n",
       "<style scoped>\n",
       "    .dataframe tbody tr th:only-of-type {\n",
       "        vertical-align: middle;\n",
       "    }\n",
       "\n",
       "    .dataframe tbody tr th {\n",
       "        vertical-align: top;\n",
       "    }\n",
       "\n",
       "    .dataframe thead th {\n",
       "        text-align: right;\n",
       "    }\n",
       "</style>\n",
       "<table border=\"1\" class=\"dataframe\">\n",
       "  <thead>\n",
       "    <tr style=\"text-align: right;\">\n",
       "      <th></th>\n",
       "      <th>NIS code</th>\n",
       "      <th>Woonplaats</th>\n",
       "      <th>Aantal</th>\n",
       "      <th>Geslacht</th>\n",
       "      <th>Jaartal</th>\n",
       "      <th>Provincie</th>\n",
       "    </tr>\n",
       "  </thead>\n",
       "  <tbody>\n",
       "    <tr>\n",
       "      <th>0</th>\n",
       "      <td>11001</td>\n",
       "      <td>Aartselaar</td>\n",
       "      <td>7169</td>\n",
       "      <td>Mannen</td>\n",
       "      <td>2021</td>\n",
       "      <td>Antwerp</td>\n",
       "    </tr>\n",
       "    <tr>\n",
       "      <th>1</th>\n",
       "      <td>11002</td>\n",
       "      <td>Antwerpen</td>\n",
       "      <td>265213</td>\n",
       "      <td>Mannen</td>\n",
       "      <td>2021</td>\n",
       "      <td>Antwerp</td>\n",
       "    </tr>\n",
       "    <tr>\n",
       "      <th>2</th>\n",
       "      <td>11004</td>\n",
       "      <td>Boechout</td>\n",
       "      <td>6587</td>\n",
       "      <td>Mannen</td>\n",
       "      <td>2021</td>\n",
       "      <td>Antwerp</td>\n",
       "    </tr>\n",
       "    <tr>\n",
       "      <th>3</th>\n",
       "      <td>11005</td>\n",
       "      <td>Boom</td>\n",
       "      <td>9337</td>\n",
       "      <td>Mannen</td>\n",
       "      <td>2021</td>\n",
       "      <td>Antwerp</td>\n",
       "    </tr>\n",
       "    <tr>\n",
       "      <th>4</th>\n",
       "      <td>11007</td>\n",
       "      <td>Borsbeek</td>\n",
       "      <td>5349</td>\n",
       "      <td>Mannen</td>\n",
       "      <td>2021</td>\n",
       "      <td>Antwerp</td>\n",
       "    </tr>\n",
       "  </tbody>\n",
       "</table>\n",
       "</div>"
      ],
      "text/plain": [
       "   NIS code  Woonplaats  Aantal Geslacht  Jaartal Provincie\n",
       "0     11001  Aartselaar    7169   Mannen     2021   Antwerp\n",
       "1     11002   Antwerpen  265213   Mannen     2021   Antwerp\n",
       "2     11004    Boechout    6587   Mannen     2021   Antwerp\n",
       "3     11005        Boom    9337   Mannen     2021   Antwerp\n",
       "4     11007    Borsbeek    5349   Mannen     2021   Antwerp"
      ]
     },
     "execution_count": 385,
     "metadata": {},
     "output_type": "execute_result"
    }
   ],
   "source": [
    "totale_bevolking.head()"
   ]
  },
  {
   "cell_type": "code",
   "execution_count": null,
   "id": "63ada322-2b7d-4b9b-bf7b-71a69860c97f",
   "metadata": {},
   "outputs": [],
   "source": []
  },
  {
   "cell_type": "code",
   "execution_count": 427,
   "id": "16b9f82c-293b-447b-bad2-99d3618ab25f",
   "metadata": {},
   "outputs": [],
   "source": [
    "groep_geslacht = totale_bevolking.groupby(['Jaartal', 'Provincie', 'Geslacht'])['Aantal'].sum()"
   ]
  },
  {
   "cell_type": "code",
   "execution_count": 429,
   "id": "e57b4f3a-d2ed-45e2-947f-d5a10988544f",
   "metadata": {},
   "outputs": [
    {
     "data": {
      "text/plain": [
       "Jaartal  Provincie        Geslacht\n",
       "2021     Antwerp          Mannen      931025\n",
       "                          Vrouwen     944499\n",
       "         Brussel          Mannen      599074\n",
       "                          Vrouwen     620896\n",
       "         Henegouwen       Mannen      655872\n",
       "                                       ...  \n",
       "2023     Vlaams-Brabant   Vrouwen     604956\n",
       "         Waals-Brabant    Mannen      200139\n",
       "                          Vrouwen     212795\n",
       "         West-Vlaanderen  Mannen      604831\n",
       "                          Vrouwen     615195\n",
       "Name: Aantal, Length: 66, dtype: int64"
      ]
     },
     "execution_count": 429,
     "metadata": {},
     "output_type": "execute_result"
    }
   ],
   "source": [
    "groep_geslacht"
   ]
  },
  {
   "cell_type": "code",
   "execution_count": null,
   "id": "d45770ca-5004-4e83-8fff-f52bc9e5f25e",
   "metadata": {},
   "outputs": [],
   "source": []
  },
  {
   "cell_type": "code",
   "execution_count": null,
   "id": "aeae2fff-17a3-426c-bd86-8fb4709b62a4",
   "metadata": {},
   "outputs": [],
   "source": []
  },
  {
   "cell_type": "code",
   "execution_count": 461,
   "id": "6cdea43d-d3ec-4a85-9f45-e7df999f56d5",
   "metadata": {},
   "outputs": [
    {
     "name": "stdout",
     "output_type": "stream",
     "text": [
      "--------------------\n",
      "2021\n",
      "[]\n",
      "--------------------\n",
      "\n",
      "--------------------\n",
      "2022\n",
      "[]\n",
      "--------------------\n",
      "\n",
      "--------------------\n",
      "2023\n",
      "[]\n",
      "--------------------\n",
      "\n"
     ]
    }
   ],
   "source": [
    "# alle jaartallen afgaan\n",
    "for jaartal in range(2021, 2024):\n",
    "\n",
    "    print(('-')*20)\n",
    "    print(jaartal)\n",
    "    meer_mannen = []\n",
    "    \n",
    "    # alle provincies per jaartal afgaan\n",
    "    for provincie in provincies:\n",
    "    \n",
    "        # .get(index) => door de indexen te navigeren kunnen we specifieke waardes selecteren !!!\n",
    "        aantal_mannen = groep_geslacht.get(key = (jaartal, provincie, 'Mannen'), default = 0)\n",
    "        aantal_vrouwen = groep_geslacht.get(key = (jaartal, provincie, 'Vrouwen'), default = 0)\n",
    "        \n",
    "        if aantal_mannen > aantal_vrouwen:\n",
    "            meer_mannen.append(provincie)\n",
    "\n",
    "    print(meer_mannen)\n",
    "    print(('-')*20)\n",
    "    print()"
   ]
  },
  {
   "cell_type": "code",
   "execution_count": null,
   "id": "c036cc4f-84f4-472c-a973-27b1ca94f760",
   "metadata": {},
   "outputs": [],
   "source": []
  },
  {
   "cell_type": "code",
   "execution_count": null,
   "id": "572a352b-6073-4aa4-a6a5-9969f7f9ef3c",
   "metadata": {},
   "outputs": [],
   "source": []
  }
 ],
 "metadata": {
  "kernelspec": {
   "display_name": "Python 3 (ipykernel)",
   "language": "python",
   "name": "python3"
  },
  "language_info": {
   "codemirror_mode": {
    "name": "ipython",
    "version": 3
   },
   "file_extension": ".py",
   "mimetype": "text/x-python",
   "name": "python",
   "nbconvert_exporter": "python",
   "pygments_lexer": "ipython3",
   "version": "3.12.7"
  }
 },
 "nbformat": 4,
 "nbformat_minor": 5
}
